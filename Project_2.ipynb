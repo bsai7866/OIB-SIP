{
  "nbformat": 4,
  "nbformat_minor": 0,
  "metadata": {
    "colab": {
      "provenance": []
    },
    "kernelspec": {
      "name": "python3",
      "display_name": "Python 3"
    },
    "language_info": {
      "name": "python"
    }
  },
  "cells": [
    {
      "cell_type": "code",
      "execution_count": 1,
      "metadata": {
        "colab": {
          "base_uri": "https://localhost:8080/"
        },
        "id": "7SZltF8yvhqP",
        "outputId": "37f87399-8817-4994-e643-5a5dc8f7c777"
      },
      "outputs": [
        {
          "output_type": "stream",
          "name": "stdout",
          "text": [
            "=== Password Generator ===\n",
            "Enter desired password length: 15\n",
            "\n",
            "Generated password: %3hL6u_s//h\\i~$\n",
            "Please enter the password to verify: %3hL6u_s//h\\i~$\n",
            "✅ Password verified successfully!\n"
          ]
        }
      ],
      "source": [
        "import random\n",
        "import string\n",
        "\n",
        "print(\"=== Password Generator ===\")\n",
        "\n",
        "length = int(input(\"Enter desired password length: \"))\n",
        "\n",
        "characters = string.ascii_letters + string.digits + string.punctuation\n",
        "\n",
        "if length <= 0:\n",
        "    print(\"Password length must be greater than 0.\")\n",
        "else:\n",
        "    password = \"\".join(random.choice(characters) for _ in range(length))\n",
        "    print(\"\\nGenerated password:\", password)\n",
        "\n",
        "    verify = input(\"Please enter the password to verify: \")\n",
        "\n",
        "    if verify == password:\n",
        "        print(\"✅ Password verified successfully!\")\n",
        "    else:\n",
        "        print(\"❌ Password does not match. Please try again.\")"
      ]
    }
  ]
}