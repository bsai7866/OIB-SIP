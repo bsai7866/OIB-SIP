{
  "nbformat": 4,
  "nbformat_minor": 0,
  "metadata": {
    "colab": {
      "provenance": []
    },
    "kernelspec": {
      "name": "python3",
      "display_name": "Python 3"
    },
    "language_info": {
      "name": "python"
    }
  },
  "cells": [
    {
      "cell_type": "code",
      "execution_count": 2,
      "metadata": {
        "colab": {
          "base_uri": "https://localhost:8080/"
        },
        "id": "P9DfOlc4rYPr",
        "outputId": "b1cf6fb0-e230-4e46-913c-750e5e2b01ec"
      },
      "outputs": [
        {
          "output_type": "stream",
          "name": "stdout",
          "text": [
            "=== BMI Calculator ===\n",
            "Please enter your weight in kilograms: 60\n",
            "Please enter your height in centimeters: 160\n",
            "\n",
            "BMI Categories (WHO Standard):\n",
            "Underweight: Less than 18.5\n",
            "Normal weight: 18.5 – 24.9\n",
            "Overweight: 25 – 29.9\n",
            "Obese: 30 and above\n",
            "\n",
            "Your Body Mass Index (BMI) is: 23.44\n",
            "Based on your BMI, you are classified as: Normal weight\n"
          ]
        }
      ],
      "source": [
        "print(\"=== BMI Calculator ===\")\n",
        "weight = float(input(\"Please enter your weight in kilograms: \"))\n",
        "height = float(input(\"Please enter your height in centimeters: \"))\n",
        "if weight <= 0:\n",
        "    print(\"Please enter a valid weight in kilograms.\")\n",
        "elif height <= 0 or height > 300:\n",
        "    print(\"Please enter a valid height under 300 centimeters.\")\n",
        "else:\n",
        "    print(\"\\nBMI Categories (WHO Standard):\")\n",
        "    print(\"Underweight: Less than 18.5\")\n",
        "    print(\"Normal weight: 18.5 – 24.9\")\n",
        "    print(\"Overweight: 25 – 29.9\")\n",
        "    print(\"Obese: 30 and above\")\n",
        "\n",
        "    height = height / 100\n",
        "    bmi = weight / (height ** 2)\n",
        "\n",
        "    if bmi < 18.5:\n",
        "        category = \"Underweight\"\n",
        "    elif bmi < 25:\n",
        "        category = \"Normal weight\"\n",
        "    elif bmi < 30:\n",
        "        category = \"Overweight\"\n",
        "    else:\n",
        "        category = \"Obese\"\n",
        "    print(\"\\nYour Body Mass Index (BMI) is:\", round(bmi, 2))\n",
        "    print(\"Based on your BMI, you are classified as:\", category)\n",
        "\n"
      ]
    }
  ]
}